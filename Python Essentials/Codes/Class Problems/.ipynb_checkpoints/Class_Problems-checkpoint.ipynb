{
 "cells": [
  {
   "cell_type": "markdown",
   "id": "5d758918-0615-479e-856a-c870cf2ce605",
   "metadata": {},
   "source": [
    "### Class Excercise [source](https://www.geeksforgeeks.org/python-program-to-check-if-a-string-has-at-least-one-letter-and-one-number/) (Try to solve on your own)\n",
    "\n",
    "- Input: welcome2ourcountry34\n",
    "- Output: True\n",
    "\n",
    "- Input: stringwithoutnum\n",
    "- Output: False\n",
    "\n",
    "- Hints: Look at the output of dir() for any string object and find out the methods which can help in finding which element is a string and which is a number\n"
   ]
  },
  {
   "cell_type": "code",
   "execution_count": 1,
   "id": "4f2d2aef-f292-4912-b20f-b038d85a9148",
   "metadata": {},
   "outputs": [],
   "source": [
    "def validate(s):\n",
    "    flag_num = 0\n",
    "    flag_string = 0\n",
    "    for i in s:\n",
    "        if i.isdigit():\n",
    "            flag_num+=1\n",
    "        if i.isalpha():\n",
    "            flag_string+=1\n",
    "        if flag_num>=1 and flag_string>=1:\n",
    "            break\n",
    "    result = False\n",
    "    if flag_num>=1 and flag_string>=1:\n",
    "        result = True\n",
    "    return result"
   ]
  },
  {
   "cell_type": "code",
   "execution_count": 2,
   "id": "6f7137a0-d119-43c0-8305-812891b4b673",
   "metadata": {},
   "outputs": [
    {
     "data": {
      "text/plain": [
       "True"
      ]
     },
     "execution_count": 2,
     "metadata": {},
     "output_type": "execute_result"
    }
   ],
   "source": [
    "validate(\"welcome2ourcountry34\")"
   ]
  },
  {
   "cell_type": "code",
   "execution_count": 3,
   "id": "5e6a9bf1-2290-4cda-a706-bbb1fa6728a6",
   "metadata": {},
   "outputs": [
    {
     "data": {
      "text/plain": [
       "False"
      ]
     },
     "execution_count": 3,
     "metadata": {},
     "output_type": "execute_result"
    }
   ],
   "source": [
    "validate(\"stringwithoutnum\")"
   ]
  },
  {
   "cell_type": "markdown",
   "id": "a24b9efa-f034-4116-a006-8bdecb6660d9",
   "metadata": {},
   "source": [
    "## Class Case Study 2 [Ram Dhari Singh Dinkar](https://en.wikipedia.org/wiki/Ramdhari_Singh_Dinkar)"
   ]
  },
  {
   "cell_type": "code",
   "execution_count": 4,
   "id": "27fb112e-64a6-43a6-974d-7c2846176c89",
   "metadata": {},
   "outputs": [],
   "source": [
    "dinkar = '''\n",
    "वर्षों तक वन में घूम-घूम,\n",
    "बाधा-विघ्नों को चूम-चूम,\n",
    "सह धूप-घाम, पानी-पत्थर,\n",
    "पांडव आये कुछ और निखर।\n",
    "सौभाग्य न सब दिन सोता है,\n",
    "देखें, आगे क्या होता है।\n",
    "\n",
    "मैत्री की राह बताने को,\n",
    "सबको सुमार्ग पर लाने को,\n",
    "दुर्योधन को समझाने को,\n",
    "भीषण विध्वंस बचाने को,\n",
    "भगवान् हस्तिनापुर आये,\n",
    "पांडव का संदेशा लाये।\n",
    "\n",
    "‘दो न्याय अगर तो आधा दो,\n",
    "पर, इसमें भी यदि बाधा हो,\n",
    "तो दे दो केवल पाँच ग्राम,\n",
    "रक्खो अपनी धरती तमाम।\n",
    "हम वहीं खुशी से खायेंगे,\n",
    "परिजन पर असि न उठायेंगे!\n",
    "\n",
    "दुर्योधन वह भी दे ना सका,\n",
    "आशीष समाज की ले न सका,\n",
    "उलटे, हरि को बाँधने चला,\n",
    "जो था असाध्य, साधने चला।\n",
    "जब नाश मनुज पर छाता है,\n",
    "पहले विवेक मर जाता है।\n",
    "\n",
    "हरि ने भीषण हुंकार किया,\n",
    "अपना स्वरूप-विस्तार किया,\n",
    "डगमग-डगमग दिग्गज डोले,\n",
    "भगवान् कुपित होकर बोले-\n",
    "‘जंजीर बढ़ा कर साध मुझे,\n",
    "हाँ, हाँ दुर्योधन! बाँध मुझे।\n",
    "\n",
    "यह देख, गगन मुझमें लय है,\n",
    "यह देख, पवन मुझमें लय है,\n",
    "मुझमें विलीन झंकार सकल,\n",
    "मुझमें लय है संसार सकल।\n",
    "अमरत्व फूलता है मुझमें,\n",
    "संहार झूलता है मुझमें।\n",
    "'''"
   ]
  },
  {
   "cell_type": "markdown",
   "id": "abe0af89-a561-459c-88b6-31204b6f4a5b",
   "metadata": {},
   "source": [
    "### Q1. Programmatically find out how many paras/अनुच्छेद are there in the poem?"
   ]
  },
  {
   "cell_type": "code",
   "execution_count": 5,
   "id": "d437aa0e-5c75-4219-af21-547ccd5d818c",
   "metadata": {},
   "outputs": [
    {
     "data": {
      "text/plain": [
       "['\\nवर्षों तक वन में घूम-घूम,\\nबाधा-विघ्नों को चूम-चूम,\\nसह धूप-घाम, पानी-पत्थर,\\nपांडव आये कुछ और निखर।\\nसौभाग्य न सब दिन सोता है,\\nदेखें, आगे क्या होता है।',\n",
       " 'मैत्री की राह बताने को,\\nसबको सुमार्ग पर लाने को,\\nदुर्योधन को समझाने को,\\nभीषण विध्वंस बचाने को,\\nभगवान् हस्तिनापुर आये,\\nपांडव का संदेशा लाये।',\n",
       " '‘दो न्याय अगर तो आधा दो,\\nपर, इसमें भी यदि बाधा हो,\\nतो दे दो केवल पाँच ग्राम,\\nरक्खो अपनी धरती तमाम।\\nहम वहीं खुशी से खायेंगे,\\nपरिजन पर असि न उठायेंगे!',\n",
       " 'दुर्योधन वह भी दे ना सका,\\nआशीष समाज की ले न सका,\\nउलटे, हरि को बाँधने चला,\\nजो था असाध्य, साधने चला।\\nजब नाश मनुज पर छाता है,\\nपहले विवेक मर जाता है।',\n",
       " 'हरि ने भीषण हुंकार किया,\\nअपना स्वरूप-विस्तार किया,\\nडगमग-डगमग दिग्गज डोले,\\nभगवान् कुपित होकर बोले-\\n‘जंजीर बढ़ा कर साध मुझे,\\nहाँ, हाँ दुर्योधन! बाँध मुझे।',\n",
       " 'यह देख, गगन मुझमें लय है,\\nयह देख, पवन मुझमें लय है,\\nमुझमें विलीन झंकार सकल,\\nमुझमें लय है संसार सकल।\\nअमरत्व फूलता है मुझमें,\\nसंहार झूलता है मुझमें।\\n']"
      ]
     },
     "execution_count": 5,
     "metadata": {},
     "output_type": "execute_result"
    }
   ],
   "source": [
    "dinkar.split(\"\\n\\n\")"
   ]
  },
  {
   "cell_type": "code",
   "execution_count": 6,
   "id": "284aa5a8-52c8-4cb4-ba24-92df0c5c9f24",
   "metadata": {},
   "outputs": [],
   "source": [
    "anuched = []\n",
    "for para in dinkar.split(\"\\n\\n\"):\n",
    "    if para!='':\n",
    "        sents = []\n",
    "        for sent in para.split(\"\\n\"):\n",
    "            if sent!='':\n",
    "                sents.append(sent)\n",
    "        anuched.append(sents)               "
   ]
  },
  {
   "cell_type": "code",
   "execution_count": 7,
   "id": "efaa2f28-c559-407c-9bd3-45dcf14cc546",
   "metadata": {},
   "outputs": [
    {
     "data": {
      "text/plain": [
       "[['वर्षों तक वन में घूम-घूम,',\n",
       "  'बाधा-विघ्नों को चूम-चूम,',\n",
       "  'सह धूप-घाम, पानी-पत्थर,',\n",
       "  'पांडव आये कुछ और निखर।',\n",
       "  'सौभाग्य न सब दिन सोता है,',\n",
       "  'देखें, आगे क्या होता है।'],\n",
       " ['मैत्री की राह बताने को,',\n",
       "  'सबको सुमार्ग पर लाने को,',\n",
       "  'दुर्योधन को समझाने को,',\n",
       "  'भीषण विध्वंस बचाने को,',\n",
       "  'भगवान् हस्तिनापुर आये,',\n",
       "  'पांडव का संदेशा लाये।'],\n",
       " ['‘दो न्याय अगर तो आधा दो,',\n",
       "  'पर, इसमें भी यदि बाधा हो,',\n",
       "  'तो दे दो केवल पाँच ग्राम,',\n",
       "  'रक्खो अपनी धरती तमाम।',\n",
       "  'हम वहीं खुशी से खायेंगे,',\n",
       "  'परिजन पर असि न उठायेंगे!'],\n",
       " ['दुर्योधन वह भी दे ना सका,',\n",
       "  'आशीष समाज की ले न सका,',\n",
       "  'उलटे, हरि को बाँधने चला,',\n",
       "  'जो था असाध्य, साधने चला।',\n",
       "  'जब नाश मनुज पर छाता है,',\n",
       "  'पहले विवेक मर जाता है।'],\n",
       " ['हरि ने भीषण हुंकार किया,',\n",
       "  'अपना स्वरूप-विस्तार किया,',\n",
       "  'डगमग-डगमग दिग्गज डोले,',\n",
       "  'भगवान् कुपित होकर बोले-',\n",
       "  '‘जंजीर बढ़ा कर साध मुझे,',\n",
       "  'हाँ, हाँ दुर्योधन! बाँध मुझे।'],\n",
       " ['यह देख, गगन मुझमें लय है,',\n",
       "  'यह देख, पवन मुझमें लय है,',\n",
       "  'मुझमें विलीन झंकार सकल,',\n",
       "  'मुझमें लय है संसार सकल।',\n",
       "  'अमरत्व फूलता है मुझमें,',\n",
       "  'संहार झूलता है मुझमें।']]"
      ]
     },
     "execution_count": 7,
     "metadata": {},
     "output_type": "execute_result"
    }
   ],
   "source": [
    "anuched"
   ]
  },
  {
   "cell_type": "code",
   "execution_count": 8,
   "id": "9ee2e398-c96d-4b8e-84f6-c948d000eeb9",
   "metadata": {},
   "outputs": [
    {
     "data": {
      "text/plain": [
       "6"
      ]
     },
     "execution_count": 8,
     "metadata": {},
     "output_type": "execute_result"
    }
   ],
   "source": [
    "len(anuched)"
   ]
  },
  {
   "cell_type": "markdown",
   "id": "f21caa10-db44-425e-9853-f33cc311f1d9",
   "metadata": {},
   "source": [
    "### Q2 Count the number of words in a paragraph and each sentence"
   ]
  },
  {
   "cell_type": "code",
   "execution_count": 9,
   "id": "f0234c4c-be07-4d51-8eaa-c2e3d7e1992f",
   "metadata": {},
   "outputs": [],
   "source": [
    "words_sent = []\n",
    "words_para = []\n",
    "for para in anuched:\n",
    "    count_para = 0\n",
    "    for sent in para:\n",
    "        words_sent.append(len(sent.split(\" \")))\n",
    "        count_para+=len(sent.split(\" \"))\n",
    "    words_para.append(count_para)"
   ]
  },
  {
   "cell_type": "code",
   "execution_count": 10,
   "id": "19828fd7-d038-4e65-aaa0-049ee87262ed",
   "metadata": {},
   "outputs": [
    {
     "name": "stdout",
     "output_type": "stream",
     "text": [
      "[5, 3, 3, 5, 6, 5, 5, 5, 4, 4, 3, 4, 6, 6, 6, 4, 5, 5, 6, 6, 5, 5, 6, 5, 5, 3, 3, 4, 5, 5, 6, 6, 4, 5, 4, 4]\n"
     ]
    }
   ],
   "source": [
    "print(words_sent)"
   ]
  },
  {
   "cell_type": "code",
   "execution_count": 11,
   "id": "dbbbd6c6-5cec-42d5-b762-eaa58ad0fa2c",
   "metadata": {},
   "outputs": [
    {
     "name": "stdout",
     "output_type": "stream",
     "text": [
      "[27, 25, 32, 33, 25, 29]\n"
     ]
    }
   ],
   "source": [
    "print(words_para)"
   ]
  },
  {
   "cell_type": "code",
   "execution_count": 12,
   "id": "68ddd7d6-e5e8-4fc8-a891-37e7ec9189d2",
   "metadata": {},
   "outputs": [
    {
     "data": {
      "text/plain": [
       "36"
      ]
     },
     "execution_count": 12,
     "metadata": {},
     "output_type": "execute_result"
    }
   ],
   "source": [
    "len(words_sent)"
   ]
  },
  {
   "cell_type": "code",
   "execution_count": 13,
   "id": "f79b72f5-0e3e-43c1-b184-c8e0d9c1674f",
   "metadata": {},
   "outputs": [
    {
     "data": {
      "text/plain": [
       "6"
      ]
     },
     "execution_count": 13,
     "metadata": {},
     "output_type": "execute_result"
    }
   ],
   "source": [
    "len(words_para)"
   ]
  },
  {
   "cell_type": "markdown",
   "id": "400a4bf4-e52b-424c-93f3-14b750a9359c",
   "metadata": {},
   "source": [
    "### Class Excercise [Gender Neutral Job Descriptions](https://github.com/lovedaybrooke/gender-decoder)"
   ]
  },
  {
   "cell_type": "code",
   "execution_count": 14,
   "id": "3b6443cb-6982-4f49-92ae-cd29e0f81a3e",
   "metadata": {},
   "outputs": [],
   "source": [
    "## Gender Neutral Job Desciption Class Excercise\n",
    "feminine_coded_words = [\n",
    "    \"agree\",\n",
    "    \"affectionate\",\n",
    "    \"child\",\n",
    "    \"cheer\",\n",
    "    \"collab\",\n",
    "    \"commit\",\n",
    "    \"communal\",\n",
    "    \"compassion\",\n",
    "    \"connect\",\n",
    "    \"considerate\",\n",
    "    \"cooperat\",\n",
    "    \"co-operat\",\n",
    "    \"depend\",\n",
    "    \"emotiona\",\n",
    "    \"empath\",\n",
    "    \"feel\",\n",
    "    \"flatterable\",\n",
    "    \"gentle\",\n",
    "    \"honest\",\n",
    "    \"interpersonal\",\n",
    "    \"interdependen\",\n",
    "    \"interpersona\",\n",
    "    \"inter-personal\",\n",
    "    \"inter-dependen\",\n",
    "    \"inter-persona\",\n",
    "    \"kind\",\n",
    "    \"kinship\",\n",
    "    \"loyal\",\n",
    "    \"modesty\",\n",
    "    \"nag\",\n",
    "    \"nurtur\",\n",
    "    \"pleasant\",\n",
    "    \"polite\",\n",
    "    \"quiet\",\n",
    "    \"respon\",\n",
    "    \"sensitiv\",\n",
    "    \"submissive\",\n",
    "    \"support\",\n",
    "    \"sympath\",\n",
    "    \"tender\",\n",
    "    \"together\",\n",
    "    \"trust\",\n",
    "    \"understand\",\n",
    "    \"warm\",\n",
    "    \"whin\",\n",
    "    \"enthusias\",\n",
    "    \"inclusive\",\n",
    "    \"yield\",\n",
    "    \"share\",\n",
    "    \"sharin\"\n",
    "]\n",
    "\n",
    "masculine_coded_words = [\n",
    "    \"active\",\n",
    "    \"adventurous\",\n",
    "    \"aggress\",\n",
    "    \"ambitio\",\n",
    "    \"analy\",\n",
    "    \"assert\",\n",
    "    \"athlet\",\n",
    "    \"autonom\",\n",
    "    \"battle\",\n",
    "    \"boast\",\n",
    "    \"challeng\",\n",
    "    \"champion\",\n",
    "    \"compet\",\n",
    "    \"confident\",\n",
    "    \"courag\",\n",
    "    \"decid\",\n",
    "    \"decision\",\n",
    "    \"decisive\",\n",
    "    \"defend\",\n",
    "    \"determin\",\n",
    "    \"domina\",\n",
    "    \"dominant\",\n",
    "    \"driven\",\n",
    "    \"fearless\",\n",
    "    \"fight\",\n",
    "    \"force\",\n",
    "    \"greedy\",\n",
    "    \"head-strong\",\n",
    "    \"headstrong\",\n",
    "    \"hierarch\",\n",
    "    \"hostil\",\n",
    "    \"impulsive\",\n",
    "    \"independen\",\n",
    "    \"individual\",\n",
    "    \"intellect\",\n",
    "    \"lead\",\n",
    "    \"logic\",\n",
    "    \"objective\",\n",
    "    \"opinion\",\n",
    "    \"outspoken\",\n",
    "    \"persist\",\n",
    "    \"principle\",\n",
    "    \"reckless\",\n",
    "    \"self-confiden\",\n",
    "    \"self-relian\",\n",
    "    \"self-sufficien\",\n",
    "    \"selfconfiden\",\n",
    "    \"selfrelian\",\n",
    "    \"selfsufficien\",\n",
    "    \"stubborn\",\n",
    "    \"superior\",\n",
    "    \"unreasonab\"\n",
    "]\n",
    "job_description1 = '''We are a dominant engineering firm that boasts many leading clients. We are determined to stand apart from the competition.'''\n",
    "job_description2='''We are a community of engineers who have effective relationships with many satisfied clients. We are committed to understanding the engineer sector intimately. '''\n",
    "job_description3='''Strong communication and influencing skills. Ability to perform individually in a competitive environment. Superior ability to satisfy customers and manage company’s association with them.'''\n",
    "job_description4='''Proficient oral and written communications skills. Collaborates well in a team environment. Sensitive to clients’ needs, can develop warm client relationships.'''\n",
    "job_description5='''Direct project groups to manage project progress and ensure accurate task control. Determine compliance with client’s objectives.'''\n",
    "job_description6='''Provide general support to project team in a manner complimentary to the company. Help clients with construction activities.'''"
   ]
  },
  {
   "cell_type": "markdown",
   "id": "9dd857ce-5714-41d6-857e-69086e1af47e",
   "metadata": {},
   "source": [
    "### Q1 Write the following functions:\n",
    "1. get_sentences(): This takes job descriptions as an input and returns list of sentences as output\n",
    "2. get_words(): This takes a sentence as an input and returns a list of words in the sentence as an output"
   ]
  },
  {
   "cell_type": "code",
   "execution_count": 15,
   "id": "822df418-918f-4904-842c-1e6605077a9b",
   "metadata": {},
   "outputs": [],
   "source": [
    "def get_sentences(jd):\n",
    "    jd_list = jd.split(\".\")\n",
    "    cleaned_jd = []\n",
    "    for jd in jd_list:\n",
    "        if jd!='' and jd!=' ':\n",
    "            cleaned_jd.append(jd.strip())\n",
    "    return cleaned_jd"
   ]
  },
  {
   "cell_type": "code",
   "execution_count": 16,
   "id": "671a74f1-fd89-47cc-bcc2-47c9b6067d40",
   "metadata": {},
   "outputs": [
    {
     "data": {
      "text/plain": [
       "['We are a community of engineers who have effective relationships with many satisfied clients',\n",
       " 'We are committed to understanding the engineer sector intimately']"
      ]
     },
     "execution_count": 16,
     "metadata": {},
     "output_type": "execute_result"
    }
   ],
   "source": [
    "get_sentences(job_description2)"
   ]
  },
  {
   "cell_type": "code",
   "execution_count": 17,
   "id": "c61969bf-5ce8-42e8-ab96-0324ddbd4a32",
   "metadata": {},
   "outputs": [
    {
     "name": "stdout",
     "output_type": "stream",
     "text": [
      "['Provide', 'general', 'support', 'to', 'project', 'team', 'in', 'a', 'manner', 'complimentary', 'to', 'the', 'company']\n",
      "['Help', 'clients', 'with', 'construction', 'activities']\n"
     ]
    }
   ],
   "source": [
    "def get_words(sent):\n",
    "    return sent.split(\" \")\n",
    "\n",
    "for sent in get_sentences(job_description6):\n",
    "    print(get_words(sent))"
   ]
  },
  {
   "cell_type": "markdown",
   "id": "af035eaa-c7c7-4730-b919-b31cd5b35e33",
   "metadata": {},
   "source": [
    "### Q2. Now write a function which can take a list of words in a sentence and match how many words start with the root form of either masculine or feminine words."
   ]
  },
  {
   "cell_type": "code",
   "execution_count": 18,
   "id": "a6b2a81a-e61f-4776-9058-3e4f9b90a08a",
   "metadata": {},
   "outputs": [],
   "source": [
    "def get_coded_count(bow,coded_words):\n",
    "    count = 0\n",
    "    words = []\n",
    "    for w in bow:\n",
    "        for coded in coded_words:\n",
    "            if w.lower().startswith(coded):\n",
    "                count+=1\n",
    "                words.append(w.lower())\n",
    "    return [count,words]               "
   ]
  },
  {
   "cell_type": "code",
   "execution_count": 19,
   "id": "a8e64514-49c6-46c0-979a-47213edc5d89",
   "metadata": {},
   "outputs": [
    {
     "name": "stdout",
     "output_type": "stream",
     "text": [
      "[1, ['support']]\n",
      "[0, []]\n"
     ]
    }
   ],
   "source": [
    "for sent in get_sentences(job_description6):\n",
    "    bow = get_words(sent)\n",
    "    print(get_coded_count(bow,feminine_coded_words))"
   ]
  },
  {
   "cell_type": "markdown",
   "id": "6adc753b-9214-4f94-9de6-a85551876745",
   "metadata": {},
   "source": [
    "### Class Excercise (Organize the text)\n",
    "\n",
    "#### Q1 Use the ner_data and and organize the data in the following manner in a dictionary:\n",
    "\n",
    "```json\n",
    "{\n",
    "    \"PERSON\":['Pierre'...],\n",
    "    \"ORGANIZATION\":['Boeing'.....],\n",
    "    \"GPE\":['DUTCH'.....],\n",
    "    \"LOCATION\":['Missisipi'.....]\n",
    "}\n",
    "\n",
    "```\n",
    "You can ignore to handle the cases where a Named Entity is contigously many words long, e.g. for New York, you can treat New and York as separate words."
   ]
  },
  {
   "cell_type": "code",
   "execution_count": 21,
   "id": "43b69ba3-387d-469f-a7f1-53e02103416b",
   "metadata": {},
   "outputs": [
    {
     "data": {
      "text/plain": [
       "['Dutch',\n",
       " 'Agnew',\n",
       " 'British',\n",
       " 'New',\n",
       " 'Medicine',\n",
       " 'Boston',\n",
       " 'Western',\n",
       " 'U.S.',\n",
       " 'U.S.',\n",
       " 'Medicine']"
      ]
     },
     "execution_count": 21,
     "metadata": {},
     "output_type": "execute_result"
    }
   ],
   "source": [
    "import pickle\n",
    "with open(\"../Class Codes/ner_dataset_list\",\"rb\") as f:\n",
    "    ner_data = pickle.load(f)\n",
    "\n",
    "mapping = {'PERSON':[],\"ORGANIZATION\":[],\"GPE\":[],\"LOCATION\":[]}\n",
    "for doc in ner_data:\n",
    "    for contents in doc:\n",
    "        if contents[1]=='PERSON':\n",
    "            mapping['PERSON'].append(contents[0])\n",
    "        if contents[1]=='ORGANIZATION':\n",
    "            mapping['ORGANIZATION'].append(contents[0])\n",
    "        if contents[1]=='GPE':\n",
    "            mapping['GPE'].append(contents[0])\n",
    "        if contents[1]=='LOCATION':\n",
    "            mapping['LOCATION'].append(contents[0])\n",
    "mapping['GPE'][0:10]"
   ]
  },
  {
   "cell_type": "markdown",
   "id": "86ba2744-8fb8-4a10-8f20-454e98cd4a43",
   "metadata": {},
   "source": [
    "#### Q2. Now modify the existing dictionary so that duplicate entries are removed"
   ]
  },
  {
   "cell_type": "code",
   "execution_count": 22,
   "id": "9c13cbfb-8ae2-4754-bf22-975d69a9ab7b",
   "metadata": {},
   "outputs": [
    {
     "data": {
      "text/plain": [
       "['French',\n",
       " 'Vichy',\n",
       " 'Germany',\n",
       " 'Sino-U.S.',\n",
       " 'Warrenton',\n",
       " 'El',\n",
       " 'Stadium',\n",
       " 'Midwest',\n",
       " 'Indexing',\n",
       " 'Lebanon']"
      ]
     },
     "execution_count": 22,
     "metadata": {},
     "output_type": "execute_result"
    }
   ],
   "source": [
    "for key in mapping:\n",
    "    mapping[key]=set(mapping[key])\n",
    "    mapping[key] = list(mapping[key])\n",
    "mapping['GPE'][0:10]"
   ]
  },
  {
   "cell_type": "code",
   "execution_count": null,
   "id": "bb76b6fc-71ee-4266-8f2e-3e1503796555",
   "metadata": {},
   "outputs": [],
   "source": []
  }
 ],
 "metadata": {
  "kernelspec": {
   "display_name": "Python 3 (ipykernel)",
   "language": "python",
   "name": "python3"
  },
  "language_info": {
   "codemirror_mode": {
    "name": "ipython",
    "version": 3
   },
   "file_extension": ".py",
   "mimetype": "text/x-python",
   "name": "python",
   "nbconvert_exporter": "python",
   "pygments_lexer": "ipython3",
   "version": "3.8.5"
  }
 },
 "nbformat": 4,
 "nbformat_minor": 5
}
